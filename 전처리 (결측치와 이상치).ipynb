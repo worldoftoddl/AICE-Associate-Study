{
 "cells": [
  {
   "cell_type": "code",
   "execution_count": null,
   "id": "d6f0326d",
   "metadata": {},
   "outputs": [],
   "source": [
    "'''\n",
    "2025년 8월 27일 화이팅입니다!!!\n",
    "\n",
    "이번 수업은 데이터의 전처리 - 결측치와 이상치 보정을 배우는 장이다.\n",
    "'''"
   ]
  },
  {
   "cell_type": "markdown",
   "id": "d6c0c150",
   "metadata": {},
   "source": [
    "## 데이터 전처리!!"
   ]
  },
  {
   "cell_type": "markdown",
   "id": "6404f365",
   "metadata": {},
   "source": [
    "#### 1-1) 결측치 확인"
   ]
  },
  {
   "cell_type": "code",
   "execution_count": null,
   "id": "5acbed93",
   "metadata": {},
   "outputs": [],
   "source": [
    "'''\n",
    "데이터에서 특정 값이 누락된 경우를 뜻한다.\n",
    "Pandas 라이브러리의 isnull(), isnull().sum()을 이용하거나 info() 등을 통해 확인할 수 있다.\n",
    "'''"
   ]
  },
  {
   "cell_type": "code",
   "execution_count": 39,
   "id": "8ae80c12",
   "metadata": {},
   "outputs": [
    {
     "name": "stdout",
     "output_type": "stream",
     "text": [
      "#### 결측치 여부 확인 ####\n",
      "    name    Age  Score\n",
      "0  False  False  False\n",
      "1  False   True  False\n",
      "2  False  False   True\n"
     ]
    }
   ],
   "source": [
    "import pandas as pd\n",
    "\n",
    "# 예제 데이터프레임 생성\n",
    "data = {\"name\"  : ['Alice', 'Bob', 'Charlie'],\n",
    "        'Age'   : [25, None, 30],\n",
    "        'Score' : [90, 85, None]\n",
    "        }\n",
    "df = pd.DataFrame(data)\n",
    "\n",
    "print('#### 결측치 여부 확인 ####')\n",
    "print(df.isnull())      ## 결측치가 존재하면 True 값을 띄운다"
   ]
  },
  {
   "cell_type": "code",
   "execution_count": null,
   "id": "86c04624",
   "metadata": {},
   "outputs": [
    {
     "name": "stdout",
     "output_type": "stream",
     "text": [
      "#### 컬럼별 결측치 개수 확인 ####\n",
      "name     0\n",
      "Age      1\n",
      "Score    1\n",
      "dtype: int64\n"
     ]
    }
   ],
   "source": [
    "## 시험 단골문제이므로 반드시 기억해야함!\n",
    "\n",
    "print(\"#### 컬럼별 결측치 개수 확인 ####\")\n",
    "print(df.isnull().sum())"
   ]
  },
  {
   "cell_type": "code",
   "execution_count": 3,
   "id": "c470f56f",
   "metadata": {},
   "outputs": [
    {
     "name": "stdout",
     "output_type": "stream",
     "text": [
      "#### 특정 열에 결측치 존재 여부 확인 ####\n",
      "name     False\n",
      "Age       True\n",
      "Score     True\n",
      "dtype: bool\n"
     ]
    }
   ],
   "source": [
    "print(\"#### 특정 열에 결측치 존재 여부 확인 ####\")\n",
    "print(df.isnull().any())"
   ]
  },
  {
   "cell_type": "markdown",
   "id": "4722cc88",
   "metadata": {},
   "source": [
    "#### 1-2) 결측치 처리"
   ]
  },
  {
   "cell_type": "code",
   "execution_count": null,
   "id": "726533fb",
   "metadata": {},
   "outputs": [],
   "source": [
    "'''\n",
    "결측치를 발견했다면 이를 처리할 수 있는 방법은 삭제와 대체다.\n",
    "삭제란 결측치가 존재하는 데이터(행) 자체를 삭제하는 것이고\n",
    "대체는 평균값, 최빈값, 중앙값으로 대체할 수 있고\n",
    "앞이나 뒷 값을 이용한 보간을 할 수 있으며\n",
    "회귀분석을 통한 다중 대체법도 고려해 볼 수 있다.\n",
    "'''"
   ]
  },
  {
   "cell_type": "code",
   "execution_count": null,
   "id": "bf11f780",
   "metadata": {},
   "outputs": [
    {
     "name": "stdout",
     "output_type": "stream",
     "text": [
      "      name   Age  Score\n",
      "0    Alice  25.0   90.0\n",
      "1      Bob   0.0   85.0\n",
      "2  Charlie  30.0    0.0\n"
     ]
    }
   ],
   "source": [
    "## 결측치를 대체하는 방법.\n",
    "df_2 = df.fillna(0, inplace= False)     ## inplace = True이면 원본 데이터를 수정한다.\n",
    "print(df_2)\n",
    "\n",
    "## 결측치가 0으로 대체된 모습 - "
   ]
  },
  {
   "cell_type": "code",
   "execution_count": 10,
   "id": "49611f2f",
   "metadata": {},
   "outputs": [
    {
     "name": "stdout",
     "output_type": "stream",
     "text": [
      "      name   Age Score\n",
      "0    Alice  25.0  90.0\n",
      "1      Bob   결측치  85.0\n",
      "2  Charlie  30.0   결측치\n"
     ]
    }
   ],
   "source": [
    "df_2 = df.fillna('결측치')\n",
    "print(df_2)"
   ]
  },
  {
   "cell_type": "code",
   "execution_count": null,
   "id": "ed5e2677",
   "metadata": {},
   "outputs": [
    {
     "name": "stdout",
     "output_type": "stream",
     "text": [
      "      name   Age  Score\n",
      "0    Alice  25.0   90.0\n",
      "1      Bob  27.5   85.0\n",
      "2  Charlie  30.0   87.5\n"
     ]
    }
   ],
   "source": [
    "mean_age = df['Age'].mean()\n",
    "df['Age'] = df['Age'].fillna(mean_age)\n",
    "\n",
    "mean_score = df['Score'].mean()\n",
    "df['Score'] = df['Score'].fillna(mean_score)\n",
    "\n",
    "print(df)\n",
    "\n",
    "# 결측치를 평균값으로 채운 모습이다."
   ]
  },
  {
   "cell_type": "code",
   "execution_count": 37,
   "id": "52933508",
   "metadata": {},
   "outputs": [
    {
     "name": "stdout",
     "output_type": "stream",
     "text": [
      "      name   Age  Score\n",
      "0    Alice  25.0   90.0\n",
      "1      Bob  27.5   85.0\n",
      "2  Charlie  30.0   87.5\n"
     ]
    }
   ],
   "source": [
    "# fillna()를 딕셔너리 형식을 이용해 채우는 방식\n",
    "\n",
    "df2 = df.fillna({'Age'   : df['Age'].mean(),\n",
    "                 'Score' : df['Score'].mean()\n",
    "                })\n",
    "\n",
    "print(df2)"
   ]
  },
  {
   "cell_type": "code",
   "execution_count": null,
   "id": "dc066a59",
   "metadata": {},
   "outputs": [
    {
     "name": "stdout",
     "output_type": "stream",
     "text": [
      "      name   Age  Score\n",
      "0    Alice  25.0   90.0\n",
      "1      Bob  27.5   85.0\n",
      "2  Charlie  30.0   85.0\n"
     ]
    }
   ],
   "source": [
    "# 혹은 column마다 다른 방법으로 결측치를 대체할 수도 있다\n",
    "\n",
    "df2 = df.fillna({'Age'   : df['Age'].median(),         ## 중간값 대체\n",
    "                 'Score' : df['Score'].mode()[0]       ## 최빈값 대체\n",
    "                })\n",
    "\n",
    "print(df2)"
   ]
  },
  {
   "cell_type": "code",
   "execution_count": null,
   "id": "9f6e90af",
   "metadata": {},
   "outputs": [
    {
     "name": "stdout",
     "output_type": "stream",
     "text": [
      "      name   Age  Score\n",
      "0    Alice  25.0   90.0\n",
      "1      Bob  25.0   85.0\n",
      "2  Charlie  30.0   85.0\n",
      "      name   Age  Score\n",
      "0    Alice  25.0   90.0\n",
      "1      Bob  30.0   85.0\n",
      "2  Charlie  30.0    NaN\n"
     ]
    },
    {
     "name": "stderr",
     "output_type": "stream",
     "text": [
      "C:\\Users\\16Z90P\\AppData\\Local\\Temp\\ipykernel_70336\\3788448927.py:2: FutureWarning: DataFrame.fillna with 'method' is deprecated and will raise in a future version. Use obj.ffill() or obj.bfill() instead.\n",
      "  df2 = df.fillna(method= \"ffill\", inplace= False)\n",
      "C:\\Users\\16Z90P\\AppData\\Local\\Temp\\ipykernel_70336\\3788448927.py:5: FutureWarning: DataFrame.fillna with 'method' is deprecated and will raise in a future version. Use obj.ffill() or obj.bfill() instead.\n",
      "  df3 = df.fillna(method= 'bfill', inplace= False)\n"
     ]
    }
   ],
   "source": [
    "# 앞, 뒤 값으로 채우는 방식\n",
    "df2 = df.fillna(method= \"ffill\", inplace= False)\n",
    "print(df2)\n",
    "\n",
    "df3 = df.fillna(method= 'bfill', inplace= False)\n",
    "print(df3)              ## 뒷 값이 없어서 채워지지 않은 결측치가 있다."
   ]
  },
  {
   "cell_type": "code",
   "execution_count": 24,
   "id": "55c9401f",
   "metadata": {},
   "outputs": [
    {
     "name": "stdout",
     "output_type": "stream",
     "text": [
      "      name   Age  Score\n",
      "0    Alice  25.0   90.0\n",
      "1      Bob   NaN   85.0\n",
      "2  Charlie  30.0    NaN\n",
      "'name' 열은 숫자형이 아니므로 건너뜁니다.\n",
      "      name   Age  Score\n",
      "0    Alice  25.0   90.0\n",
      "1      Bob  27.5   85.0\n",
      "2  Charlie  30.0   87.5\n"
     ]
    }
   ],
   "source": [
    "print(df)\n",
    "\n",
    "# try-except로 예외 처리\n",
    "for column in df.columns:\n",
    "    try:\n",
    "        df[column] = df[column].fillna(df[column].mean())\n",
    "    except:\n",
    "        print(f\"'{column}' 열은 숫자형이 아니므로 건너뜁니다.\")\n",
    "        continue\n",
    "\n",
    "print(df)"
   ]
  },
  {
   "cell_type": "code",
   "execution_count": null,
   "id": "b4efdd99",
   "metadata": {},
   "outputs": [
    {
     "name": "stdout",
     "output_type": "stream",
     "text": [
      "    name   Age  Score\n",
      "0  Alice  25.0   90.0\n"
     ]
    }
   ],
   "source": [
    "## 결측치가 있는 행을 그대로 삭제하는 방식\n",
    "df_3 = df.dropna()\n",
    "print(df_3)\n",
    "\n",
    "## 결측치가 있던 두개의 행이 삭제되었다."
   ]
  },
  {
   "cell_type": "code",
   "execution_count": null,
   "id": "6257ab3e",
   "metadata": {},
   "outputs": [
    {
     "name": "stdout",
     "output_type": "stream",
     "text": [
      "      name\n",
      "0    Alice\n",
      "1      Bob\n",
      "2  Charlie\n"
     ]
    }
   ],
   "source": [
    "## dropna()의 인자 가운데 axis= 의 기본값은 0이다(행 삭제)\n",
    "df_3 = df.dropna(axis=1)\n",
    "print(df_3)\n",
    "\n",
    "## 반대로 axis = 1로 설정하게 된다면 결측치가 존재하는 열을 삭제한다."
   ]
  },
  {
   "cell_type": "markdown",
   "id": "53090178",
   "metadata": {},
   "source": [
    "#### 2-1) 이상치 확인"
   ]
  },
  {
   "cell_type": "code",
   "execution_count": null,
   "id": "e2d92840",
   "metadata": {},
   "outputs": [],
   "source": [
    "'''\n",
    "이상치(Outlier)는 데이터 분포에서 다른 값들과 크게 차이가 나는 값을 말한다.\n",
    "키가 300cm이거나 나이가 200살이 넘는 경우가 이에 해당한다고 볼 수 있다.\n",
    "\n",
    "이상치 확인을 위한 방법으로는 \n",
    "1. 최대 최솟값 확인\n",
    "2. IQR(사분위 범위)\n",
    "3. Z-Score 확인\n",
    "등이 있다. 하나하나씩 알아보도록 하겠다.\n",
    "'''"
   ]
  },
  {
   "cell_type": "code",
   "execution_count": null,
   "id": "a5a2e23f",
   "metadata": {},
   "outputs": [],
   "source": [
    "import pandas as pd\n",
    "import numpy  as np\n",
    "from   scipy  import stats"
   ]
  },
  {
   "cell_type": "code",
   "execution_count": 63,
   "id": "bc7712d0",
   "metadata": {},
   "outputs": [
    {
     "name": "stdout",
     "output_type": "stream",
     "text": [
      "      Name  Age  Score\n",
      "0    Alice   25     90\n",
      "1      Bob   30     85\n",
      "2  Charlie   28     88\n",
      "3    David   22     92\n",
      "4      Eve  150     87\n",
      "5    Frank   27    300\n"
     ]
    }
   ],
   "source": [
    "data = {\n",
    "    \"Name\" : [\"Alice\", \"Bob\", \"Charlie\", \"David\", \"Eve\", \"Frank\"],\n",
    "    \"Age\"  : [25, 30, 28, 22, 150, 27],   # '150'은 이상치\n",
    "    \"Score\": [90, 85, 88, 92, 87, 300]    # '300'은 이상치\n",
    "}\n",
    "df = pd.DataFrame(data)\n",
    "\n",
    "print(df)"
   ]
  },
  {
   "cell_type": "code",
   "execution_count": null,
   "id": "92f47529",
   "metadata": {},
   "outputs": [
    {
     "data": {
      "text/html": [
       "<div>\n",
       "<style scoped>\n",
       "    .dataframe tbody tr th:only-of-type {\n",
       "        vertical-align: middle;\n",
       "    }\n",
       "\n",
       "    .dataframe tbody tr th {\n",
       "        vertical-align: top;\n",
       "    }\n",
       "\n",
       "    .dataframe thead th {\n",
       "        text-align: right;\n",
       "    }\n",
       "</style>\n",
       "<table border=\"1\" class=\"dataframe\">\n",
       "  <thead>\n",
       "    <tr style=\"text-align: right;\">\n",
       "      <th></th>\n",
       "      <th>Age</th>\n",
       "      <th>Score</th>\n",
       "    </tr>\n",
       "  </thead>\n",
       "  <tbody>\n",
       "    <tr>\n",
       "      <th>count</th>\n",
       "      <td>6.000000</td>\n",
       "      <td>6.000000</td>\n",
       "    </tr>\n",
       "    <tr>\n",
       "      <th>mean</th>\n",
       "      <td>47.000000</td>\n",
       "      <td>123.666667</td>\n",
       "    </tr>\n",
       "    <tr>\n",
       "      <th>std</th>\n",
       "      <td>50.533157</td>\n",
       "      <td>86.419134</td>\n",
       "    </tr>\n",
       "    <tr>\n",
       "      <th>min</th>\n",
       "      <td>22.000000</td>\n",
       "      <td>85.000000</td>\n",
       "    </tr>\n",
       "    <tr>\n",
       "      <th>25%</th>\n",
       "      <td>25.500000</td>\n",
       "      <td>87.250000</td>\n",
       "    </tr>\n",
       "    <tr>\n",
       "      <th>50%</th>\n",
       "      <td>27.500000</td>\n",
       "      <td>89.000000</td>\n",
       "    </tr>\n",
       "    <tr>\n",
       "      <th>75%</th>\n",
       "      <td>29.500000</td>\n",
       "      <td>91.500000</td>\n",
       "    </tr>\n",
       "    <tr>\n",
       "      <th>max</th>\n",
       "      <td>150.000000</td>\n",
       "      <td>300.000000</td>\n",
       "    </tr>\n",
       "  </tbody>\n",
       "</table>\n",
       "</div>"
      ],
      "text/plain": [
       "              Age       Score\n",
       "count    6.000000    6.000000\n",
       "mean    47.000000  123.666667\n",
       "std     50.533157   86.419134\n",
       "min     22.000000   85.000000\n",
       "25%     25.500000   87.250000\n",
       "50%     27.500000   89.000000\n",
       "75%     29.500000   91.500000\n",
       "max    150.000000  300.000000"
      ]
     },
     "execution_count": 46,
     "metadata": {},
     "output_type": "execute_result"
    }
   ],
   "source": [
    "# 1. 최대-최소값 확인 (scipy 라이브러리 - describe)\n",
    "df.describe()       ## min과 max로 최소, 최대 확인 가능"
   ]
  },
  {
   "cell_type": "code",
   "execution_count": null,
   "id": "5f4fab8b",
   "metadata": {},
   "outputs": [
    {
     "name": "stdout",
     "output_type": "stream",
     "text": [
      "4.25\n",
      "97.875\n",
      "80.875\n",
      "    Name  Age  Score\n",
      "5  Frank   27    300\n"
     ]
    }
   ],
   "source": [
    "# 2. IQR 사분위 범위\n",
    "Q1 = df['Score'].quantile(0.25)\n",
    "Q3 = df['Score'].quantile(0.75)\n",
    "\n",
    "IQR = Q3 - Q1\n",
    "print(IQR)\n",
    "\n",
    "'''\n",
    "이상치 판별 공식:\n",
    "하한선: Q1 - 1.5 * IQR\n",
    "상한선: Q3 + 1.5 * IQR\n",
    "'''\n",
    "\n",
    "upper = Q3 + 1.5 * IQR\n",
    "lower = Q1 - 1.5 * IQR\n",
    "\n",
    "print(upper)\n",
    "print(lower)\n",
    "\n",
    "## 80점보다 낮거나 98점 이상인 점수는 IQR에 따라서 아웃라이어로 간주된다는 것임\n",
    "'''\n",
    "장점:\n",
    "간단하고 직관적\n",
    "이상치에 강건함 (median 기반)\n",
    "분포 모양에 상관없이 사용 가능\n",
    "시각적으로 이해하기 쉬움 (박스플롯)\n",
    "\n",
    "단점:\n",
    "정상 범위가 넓어질 수 있음\n",
    "소수의 극값만 이상치로 판별\n",
    "1.5배 기준이 임의적\n",
    "'''\n",
    "\n",
    "outlier = df[(df['Score'] > upper) | (df['Score'] < lower)]\n",
    "print(outlier)\n",
    "# 성공적으로 이상치를 색출해냈다!!!"
   ]
  },
  {
   "cell_type": "code",
   "execution_count": null,
   "id": "4b81fbd6",
   "metadata": {},
   "outputs": [
    {
     "name": "stdout",
     "output_type": "stream",
     "text": [
      "      Name  Age  Score  Age_Zscore  Score_Zscore\n",
      "0    Alice   25     90   -0.476910     -0.426757\n",
      "1      Bob   30     85   -0.368522     -0.490137\n",
      "2  Charlie   28     88   -0.411877     -0.452109\n",
      "3    David   22     92   -0.541944     -0.401405\n",
      "4      Eve  150     87    2.232808     -0.464785\n",
      "5    Frank   27    300   -0.433555      2.235194\n",
      "\n",
      "    Name  Age  Score  Age_Zscore  Score_Zscore\n",
      "4    Eve  150     87    2.232808     -0.464785\n",
      "5  Frank   27    300   -0.433555      2.235194\n"
     ]
    }
   ],
   "source": [
    "# 3. Z-Score 기준 이상치 (정규분포 신뢰수준 95%)\n",
    "stats.zscore(df['Age'])         ## 보면 혼자 2.232 만큼 떨어진 표본이 있음.. 150세의 Eve 옹..\n",
    "'''\n",
    "장점:\n",
    "정확한 통계적 기준 (표준편차 기반)\n",
    "연속적인 점수 (이상치 정도 측정 가능)\n",
    "정규분포에서 매우 효과적\n",
    "\n",
    "단점:\n",
    "정규분포 가정 필요 (비정규분포에서 부정확)\n",
    "극값에 민감 (평균과 표준편차가 이상치에 영향받음)\n",
    "소표본에서 불안정\n",
    "'''\n",
    "\n",
    "df['Age_Zscore']   = stats.zscore(df['Age'])\n",
    "df['Score_Zscore'] = stats.zscore(df['Score'])\n",
    "print(df)\n",
    "print()\n",
    "\n",
    "outlier = df[(df['Age_Zscore']   >  2) |\n",
    "             (df['Age_Zscore']   < -2) |\n",
    "             (df['Score_Zscore'] >  2) |\n",
    "             (df['Score_Zscore'] < -2)\n",
    "             ]\n",
    "print(outlier)\n",
    "\n",
    "## Zscore가 2를 넘어가면 이상치로 의심하고, 3이 넘어가면 확실한 상황!"
   ]
  },
  {
   "cell_type": "markdown",
   "id": "f9048986",
   "metadata": {},
   "source": [
    "#### 2-2) 이상치 제거"
   ]
  },
  {
   "cell_type": "code",
   "execution_count": null,
   "id": "495edbe1",
   "metadata": {},
   "outputs": [
    {
     "name": "stdout",
     "output_type": "stream",
     "text": [
      "      Name  Age  Score  Age_Zscore  Score_Zscore\n",
      "0    Alice   25     90   -0.476910     -0.426757\n",
      "1      Bob   30     85   -0.368522     -0.490137\n",
      "2  Charlie   28     88   -0.411877     -0.452109\n",
      "3    David   22     92   -0.541944     -0.401405\n"
     ]
    }
   ],
   "source": [
    "## 바로 위 코드에서 이런 식의 응용을 할 수 있음\n",
    "inlier = df[(df['Age_Zscore']   <  2) &\n",
    "            (df['Age_Zscore']   > -2) &\n",
    "            (df['Score_Zscore'] <  2) &\n",
    "            (df['Score_Zscore'] > -2)\n",
    "             ]\n",
    "print(inlier)"
   ]
  }
 ],
 "metadata": {
  "kernelspec": {
   "display_name": "base",
   "language": "python",
   "name": "python3"
  },
  "language_info": {
   "codemirror_mode": {
    "name": "ipython",
    "version": 3
   },
   "file_extension": ".py",
   "mimetype": "text/x-python",
   "name": "python",
   "nbconvert_exporter": "python",
   "pygments_lexer": "ipython3",
   "version": "3.13.5"
  }
 },
 "nbformat": 4,
 "nbformat_minor": 5
}
