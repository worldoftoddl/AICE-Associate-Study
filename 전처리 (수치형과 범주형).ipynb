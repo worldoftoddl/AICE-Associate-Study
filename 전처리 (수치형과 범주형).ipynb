{
 "cells": [
  {
   "cell_type": "code",
   "execution_count": null,
   "id": "f150c86f",
   "metadata": {},
   "outputs": [
    {
     "data": {
      "text/plain": [
       "'\\n오늘 배울 내용은 수치형 ㄷ\\n'"
      ]
     },
     "execution_count": 1,
     "metadata": {},
     "output_type": "execute_result"
    }
   ],
   "source": [
    "## 2025년 8월 28일 화이팅입니다!!\n",
    "'''\n",
    "오늘 배울 내용은 수치형 데이터와 범주형 데이터의 전처리이다.\n",
    "오늘 중으로는 데이터 전처리를 마치고 다음 챕터로 넘어가고 싶다.\n",
    "화이팅이다~!!\n",
    "'''"
   ]
  },
  {
   "cell_type": "markdown",
   "id": "9587d365",
   "metadata": {},
   "source": [
    "## 1. 수치형 데이터 전처리"
   ]
  },
  {
   "cell_type": "code",
   "execution_count": 19,
   "id": "6e446aa4",
   "metadata": {},
   "outputs": [
    {
     "name": "stdout",
     "output_type": "stream",
     "text": [
      "   Age\n",
      "0   15\n",
      "1   22\n",
      "2   35\n",
      "3   50\n",
      "4   72\n"
     ]
    }
   ],
   "source": [
    "import pandas as pd\n",
    "\n",
    "# 데이터 생성\n",
    "data = {'Age': [15, 22, 35, 50, 72]}\n",
    "df = pd.DataFrame(data)\n",
    "\n",
    "print(df)"
   ]
  },
  {
   "cell_type": "markdown",
   "id": "885d2330",
   "metadata": {},
   "source": [
    "### (1-1) 수치형 데이터의 구간화 - 시험 단골문제!!!"
   ]
  },
  {
   "cell_type": "code",
   "execution_count": null,
   "id": "a4989f1b",
   "metadata": {},
   "outputs": [],
   "source": [
    "'''\n",
    "예컨데 0~100세 사이의 연속분포를 가지는 나이라는 데이터를\n",
    "10대, 20대, 30대로 범주화하여\n",
    "특정 패턴이나 그룹을 발견하기 쉽게 하고,\n",
    "또한 직관적으로 이해하기 좋게 만들어주는 전처리 작업이다.\n",
    "'''"
   ]
  },
  {
   "cell_type": "markdown",
   "id": "4e7c592e",
   "metadata": {},
   "source": [
    "#### (1-1-1) pd.cut(data, bins=구간경계, labels=구간이름)\n"
   ]
  },
  {
   "cell_type": "code",
   "execution_count": null,
   "id": "3c89bad9",
   "metadata": {},
   "outputs": [
    {
     "name": "stdout",
     "output_type": "stream",
     "text": [
      "   Age Age_groups\n",
      "0   15        10대\n",
      "1   22        20대\n",
      "2   35        30대\n",
      "3   50        50대\n",
      "4   72        70대\n"
     ]
    }
   ],
   "source": [
    "# 구간 설정\n",
    "bin = [0, 10, 20, 30, 40, 50, 60, 70, 80, 200] # 구간 경계 설정\n",
    "label = ['10대 미만', '10대', '20대', '30대', '40대', '50대', '60대', '70대', '80대 이상'] # 각 구간의 레이블\n",
    "df['Age_groups'] = pd.cut(df['Age'], bins = bin, labels = label, right = False) # right = False 로 구간의 오른쪽 끝은 포함하지 않게 되었다(50살은 40대로 가지 마라)\n",
    "\n",
    "print(df)"
   ]
  },
  {
   "cell_type": "markdown",
   "id": "bcdb4abf",
   "metadata": {},
   "source": [
    "#### (1-1-2) pd.qcut(data, q=구간 개수, labels=구간이름)"
   ]
  },
  {
   "cell_type": "code",
   "execution_count": 16,
   "id": "2d3928ae",
   "metadata": {},
   "outputs": [
    {
     "name": "stdout",
     "output_type": "stream",
     "text": [
      "   Age Age_groups Age_quantile\n",
      "0   15        10대           상위\n",
      "1   22        20대           상위\n",
      "2   35        30대           중위\n",
      "3   50        50대           하위\n",
      "4   72        70대           하위\n"
     ]
    }
   ],
   "source": [
    "df['Age_quantile'] = pd.qcut(df['Age'], q = 3, labels = ['상위', '중위', '하위'])\n",
    "\n",
    "print(df)"
   ]
  },
  {
   "cell_type": "markdown",
   "id": "e610c64c",
   "metadata": {},
   "source": [
    "### (1-2) 수치형 데이터의 스케일링 변화"
   ]
  },
  {
   "cell_type": "code",
   "execution_count": 28,
   "id": "533f391c",
   "metadata": {},
   "outputs": [
    {
     "name": "stdout",
     "output_type": "stream",
     "text": [
      "    Height\n",
      "0      147\n",
      "1      184\n",
      "2      146\n",
      "3      185\n",
      "4      178\n",
      "5      176\n",
      "6      177\n",
      "7      188\n",
      "8      183\n",
      "9      174\n",
      "10     172\n"
     ]
    }
   ],
   "source": [
    "from sklearn.preprocessing import MinMaxScaler\n",
    "from sklearn.preprocessing import StandardScaler\n",
    "import pandas as pd\n",
    "\n",
    "data = {'Height' : [147, 184, 146, 185, 178, 176, 177, 188, 183, 174, 172]}\n",
    "df   = pd.DataFrame(data)\n",
    "\n",
    "print(df)"
   ]
  },
  {
   "cell_type": "code",
   "execution_count": null,
   "id": "9532cd14",
   "metadata": {},
   "outputs": [],
   "source": [
    "'''\n",
    "국어, 수학, 영어점수와 키를 놓고 IQ를 예측하는 분석에 있어서\n",
    "키를 스케일링 없이 cm단위로 두고 분석하면\n",
    "명목적인 숫자가 큰 키에 엉뚱하게도 높은 비중을 부여하는 결과로 이어지므로\n",
    "데이터 수치들의 기준이나 단위를 맞춰 주는 작업이다.\n",
    "'''"
   ]
  },
  {
   "cell_type": "markdown",
   "id": "8f8fe861",
   "metadata": {},
   "source": [
    "#### (1-2-1) 정규화 (Normalization)"
   ]
  },
  {
   "cell_type": "code",
   "execution_count": null,
   "id": "a6155987",
   "metadata": {},
   "outputs": [],
   "source": [
    "'''\n",
    "정규화는 데이터들을 0과 1사이의 값으로 바꾸는 작업이다.\n",
    "계산식 : (x - Min) / (Max - Min)\n",
    "다시 말해 특정 값이 최솟값과 최댓값 사이에 어느 위치에 위치하냐를 표시한 것이다.\n",
    "'''"
   ]
  },
  {
   "cell_type": "code",
   "execution_count": null,
   "id": "4477b5d7",
   "metadata": {},
   "outputs": [
    {
     "name": "stdout",
     "output_type": "stream",
     "text": [
      "    Height  Height_Normalized\n",
      "0      147           0.023810\n",
      "1      184           0.904762\n",
      "2      146           0.000000\n",
      "3      185           0.928571\n",
      "4      178           0.761905\n",
      "5      176           0.714286\n",
      "6      177           0.738095\n",
      "7      188           1.000000\n",
      "8      183           0.880952\n",
      "9      174           0.666667\n",
      "10     172           0.619048\n"
     ]
    }
   ],
   "source": [
    "nm_scaler = MinMaxScaler()\n",
    "df['Height_Normalized'] = nm_scaler.fit_transform(df[['Height']])  ## series가 들어가면 안되고 DataFrame이 들어가야 하므로 이중 대괄호[[]] 형식으로 감싸주기!!!\n",
    "\n",
    "print(df)"
   ]
  },
  {
   "cell_type": "markdown",
   "id": "61a3a7ce",
   "metadata": {},
   "source": [
    "#### (1-2-2) 표준화(Standardize)"
   ]
  },
  {
   "cell_type": "code",
   "execution_count": null,
   "id": "20e1451d",
   "metadata": {},
   "outputs": [],
   "source": [
    "'''\n",
    "표준화는 데이터를 평균이 0이며, 데이터의 편차를 표준편차로 나누는 작업이다.\n",
    "계산식 : (X - 평균) / 표준편차\n",
    "\n",
    "'''"
   ]
  },
  {
   "cell_type": "code",
   "execution_count": 30,
   "id": "1cabfb6b",
   "metadata": {},
   "outputs": [
    {
     "name": "stdout",
     "output_type": "stream",
     "text": [
      "    Height  Height_Normalized  Height_Stamdardized\n",
      "0      147           0.023810            -1.954724\n",
      "1      184           0.904762             0.760541\n",
      "2      146           0.000000            -2.028109\n",
      "3      185           0.928571             0.833927\n",
      "4      178           0.761905             0.320228\n",
      "5      176           0.714286             0.173457\n",
      "6      177           0.738095             0.246842\n",
      "7      188           1.000000             1.054083\n",
      "8      183           0.880952             0.687155\n",
      "9      174           0.666667             0.026686\n",
      "10     172           0.619048            -0.120085\n"
     ]
    }
   ],
   "source": [
    "std_scaler = StandardScaler()\n",
    "df['Height_Stamdardized'] = std_scaler.fit_transform(df[['Height']])  ## series가 들어가면 안되고 DataFrame이 들어가야 하므로 이중 대괄호[[]] 형식으로 감싸주기!!!\n",
    "\n",
    "print(df)"
   ]
  },
  {
   "cell_type": "markdown",
   "id": "5f6e768c",
   "metadata": {},
   "source": [
    "## 2. 범주형 데이터 전처리"
   ]
  },
  {
   "cell_type": "code",
   "execution_count": null,
   "id": "92a5a816",
   "metadata": {},
   "outputs": [],
   "source": [
    "'''\n",
    "범주형 데이터는 글자(문자)나 분류(category)로 이루어진 데이터이다.\n",
    "이를테면 남자/여자, 서울/부산/대구 등등...\n",
    "\n",
    "범주형 데이터는 그 자체로는 머신러닝 모델이 이해하지 못하므로\n",
    "숫자로 변환하여 학습에 사용해야 한다.\n",
    "\n",
    "이를 인코딩이라고 하며\n",
    "레이블 인코딩과 원핫 인코딩으로 나눌 수 있다.\n",
    "'''"
   ]
  },
  {
   "cell_type": "code",
   "execution_count": 37,
   "id": "0301b7c0",
   "metadata": {},
   "outputs": [
    {
     "name": "stdout",
     "output_type": "stream",
     "text": [
      "      City\n",
      "0    Seoul\n",
      "1    Daegu\n",
      "2  Daejeon\n",
      "3    Suwon\n",
      "4  Gwanggu\n",
      "5    Busan\n",
      "6    Ulsan\n"
     ]
    }
   ],
   "source": [
    "import pandas as pd\n",
    "from   sklearn.preprocessing import LabelEncoder\n",
    "\n",
    "data = {'City' : ['Seoul', 'Daegu', 'Daejeon', 'Suwon', 'Gwanggu', 'Busan', 'Ulsan']}\n",
    "df   = pd.DataFrame(data)\n",
    "\n",
    "print(df)"
   ]
  },
  {
   "cell_type": "markdown",
   "id": "3a04ebee",
   "metadata": {},
   "source": [
    "### (2-1) 레이블 인코딩"
   ]
  },
  {
   "cell_type": "code",
   "execution_count": null,
   "id": "49dac9af",
   "metadata": {},
   "outputs": [],
   "source": [
    "'''\n",
    "레이블 인코딩은 단순하게 각 레이블에 0, 1, 2 등의 숫자를 매칭하는 방식이다.\n",
    "예컨데 서울은 0, 부산은 1, 수원은 2 이런 방식이다\n",
    "\n",
    "따라서 레이블 인코딩은 데이터에 서열(순서)가 있는 경우 권장되는 방식이다.\n",
    "비록 LabelEncoder 사용시 문자열 순서대로 인코딩이 되어\n",
    "서열순 인코딩을 위해선 수동으로 매칭이 필요하긴 하다.\n",
    "'''"
   ]
  },
  {
   "cell_type": "code",
   "execution_count": 42,
   "id": "f610b53c",
   "metadata": {},
   "outputs": [
    {
     "name": "stdout",
     "output_type": "stream",
     "text": [
      "      City  City_encoded\n",
      "0    Seoul             4\n",
      "1    Daegu             1\n",
      "2  Daejeon             2\n",
      "3    Suwon             5\n",
      "4  Gwanggu             3\n",
      "5    Busan             0\n",
      "6    Ulsan             6\n"
     ]
    }
   ],
   "source": [
    "# 레이블 인코딩\n",
    "encoder = LabelEncoder()\n",
    "df['City_encoded'] = encoder.fit_transform(df['City'])  ## 앞선 예시와 달리 DataFrame이 들어갈 필요는 없다.\n",
    "\n",
    "print(df)"
   ]
  },
  {
   "cell_type": "markdown",
   "id": "d5f5630c",
   "metadata": {},
   "source": [
    "### (2-2) 원핫 인코딩 (95퍼센트 확률로 출제되니까 반드시 숙지!!!!)"
   ]
  },
  {
   "cell_type": "code",
   "execution_count": null,
   "id": "b5bd912d",
   "metadata": {},
   "outputs": [],
   "source": [
    "'''\n",
    "원핫 인코딩은 각 범주를 0과 1로 구성되는 벡터로 변환하는 방식이다.\n",
    "앞선 예시로 비교해보면 서울을 001, 부산은 010, 수원은 100... 이런 방식이다.\n",
    "\n",
    "레이블 인코딩과는 반대로 데이터에 순서나 서열이 없는 경우 적합하다.\n",
    "'''"
   ]
  },
  {
   "cell_type": "code",
   "execution_count": 45,
   "id": "ea799dce",
   "metadata": {},
   "outputs": [
    {
     "name": "stdout",
     "output_type": "stream",
     "text": [
      "   Busan  Daegu  Daejeon  Gwanggu  Seoul  Suwon  Ulsan\n",
      "0  False  False    False    False   True  False  False\n",
      "1  False   True    False    False  False  False  False\n",
      "2  False  False     True    False  False  False  False\n",
      "3  False  False    False    False  False   True  False\n",
      "4  False  False    False     True  False  False  False\n",
      "5   True  False    False    False  False  False  False\n",
      "6  False  False    False    False  False  False   True\n"
     ]
    }
   ],
   "source": [
    "# 원핫 인코딩\n",
    "\n",
    "df_encoded = pd.get_dummies(df['City'], columns=['City'])\n",
    "print(df_encoded)"
   ]
  }
 ],
 "metadata": {
  "kernelspec": {
   "display_name": "base",
   "language": "python",
   "name": "python3"
  },
  "language_info": {
   "codemirror_mode": {
    "name": "ipython",
    "version": 3
   },
   "file_extension": ".py",
   "mimetype": "text/x-python",
   "name": "python",
   "nbconvert_exporter": "python",
   "pygments_lexer": "ipython3",
   "version": "3.13.5"
  }
 },
 "nbformat": 4,
 "nbformat_minor": 5
}
