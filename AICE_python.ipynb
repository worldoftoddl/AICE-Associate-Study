{
 "cells": [
  {
   "cell_type": "code",
   "execution_count": null,
   "id": "d0d5b3f3",
   "metadata": {},
   "outputs": [],
   "source": [
    "## 2025년 8월 24일 화이팅입니다!!!\n",
    "\n",
    "'''\n",
    "오늘 들을 강의는 AICE에서 다룰 데이터 분석을 위해 \n",
    "pandas와 numpy 라이브러리의 기본 문법을\n",
    "간략하게 알아보는 강의이다.\n",
    "'''"
   ]
  },
  {
   "cell_type": "code",
   "execution_count": 2,
   "id": "e7fcae85",
   "metadata": {},
   "outputs": [],
   "source": [
    "## 라이브러리 설치\n",
    "import pandas as pd\n",
    "import numpy as np"
   ]
  },
  {
   "cell_type": "markdown",
   "id": "68233371",
   "metadata": {},
   "source": [
    "# Numpy 기본 문법!!"
   ]
  },
  {
   "cell_type": "code",
   "execution_count": 13,
   "id": "bff899c3",
   "metadata": {},
   "outputs": [
    {
     "name": "stdout",
     "output_type": "stream",
     "text": [
      "[1 2 3 4 5]\n"
     ]
    },
    {
     "data": {
      "text/plain": [
       "numpy.ndarray"
      ]
     },
     "execution_count": 13,
     "metadata": {},
     "output_type": "execute_result"
    }
   ],
   "source": [
    "# 1차원 배열 생성\n",
    "arr1 = np.array([1,2,3,4,5])\n",
    "print(arr1)\n",
    "type(arr1)"
   ]
  },
  {
   "cell_type": "code",
   "execution_count": 18,
   "id": "1390f429",
   "metadata": {},
   "outputs": [
    {
     "name": "stdout",
     "output_type": "stream",
     "text": [
      "[[1 2 3]\n",
      " [4 5 6]]\n"
     ]
    },
    {
     "data": {
      "text/plain": [
       "numpy.ndarray"
      ]
     },
     "execution_count": 18,
     "metadata": {},
     "output_type": "execute_result"
    }
   ],
   "source": [
    "# 2차원 배열(행렬)\n",
    "mtx = np.array([[1,2,3], [4,5,6]])   # 리스트 내에 리스트를 인자로 가짐\n",
    "print(mtx)\n",
    "type(mtx)"
   ]
  },
  {
   "cell_type": "code",
   "execution_count": null,
   "id": "4068c335",
   "metadata": {},
   "outputs": [
    {
     "name": "stdout",
     "output_type": "stream",
     "text": [
      "[5 7 9]\n",
      "[-3 -3 -3]\n",
      "[ 4 10 18]\n",
      "[0.25 0.4  0.5 ]\n"
     ]
    }
   ],
   "source": [
    "a = np.array([1,2,3])\n",
    "b = np.array([4,5,6])\n",
    "\n",
    "print(a+b)\n",
    "print(a-b)\n",
    "print(a*b)\n",
    "print(a/b)\n",
    "\n",
    "# 엑셀에서 1열과 2열의 연산을 시킨 것과 동일한 결과를 얻음."
   ]
  },
  {
   "cell_type": "markdown",
   "id": "4bef15bf",
   "metadata": {},
   "source": [
    "> np.array() 함수는 n차원 배열을 만들어주는 함수이다.\n",
    "\n",
    ">기본적인 파이썬 리스트는 연산에 부적합하여 사용한다."
   ]
  },
  {
   "cell_type": "markdown",
   "id": "e7f1398e",
   "metadata": {},
   "source": [
    "# Pandas 기본 문법!!"
   ]
  },
  {
   "cell_type": "code",
   "execution_count": null,
   "id": "9e9689e3",
   "metadata": {},
   "outputs": [
    {
     "name": "stdout",
     "output_type": "stream",
     "text": [
      "Series:\n",
      "0    10\n",
      "1    20\n",
      "2    30\n",
      "3    40\n",
      "dtype: int64\n"
     ]
    }
   ],
   "source": [
    "# Series 생성 - 엑셀과 같은 데이터프레임을 생성해줌!\n",
    "data = [10, 20, 30, 40]\n",
    "series = pd.Series(data)\n",
    "print(\"Series:\\n\", series, sep = '')"
   ]
  },
  {
   "cell_type": "code",
   "execution_count": 24,
   "id": "abc0ed44",
   "metadata": {},
   "outputs": [
    {
     "name": "stdout",
     "output_type": "stream",
     "text": [
      "   이름  나이  성적\n",
      "0  철수  20  85\n",
      "1  영희  21  90\n",
      "2  민수  19  88\n"
     ]
    }
   ],
   "source": [
    "df = pd.DataFrame({'이름' : ['철수','영희','민수'],\n",
    "                  '나이' : [20,21,19],\n",
    "                  '성적' : [85,90,88]})\n",
    "print(df)"
   ]
  }
 ],
 "metadata": {
  "kernelspec": {
   "display_name": "base",
   "language": "python",
   "name": "python3"
  },
  "language_info": {
   "codemirror_mode": {
    "name": "ipython",
    "version": 3
   },
   "file_extension": ".py",
   "mimetype": "text/x-python",
   "name": "python",
   "nbconvert_exporter": "python",
   "pygments_lexer": "ipython3",
   "version": "3.13.5"
  }
 },
 "nbformat": 4,
 "nbformat_minor": 5
}
