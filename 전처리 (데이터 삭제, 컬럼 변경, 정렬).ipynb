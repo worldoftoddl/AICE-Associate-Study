{
 "cells": [
  {
   "cell_type": "code",
   "execution_count": null,
   "id": "b773dda2",
   "metadata": {},
   "outputs": [],
   "source": [
    "'''\n",
    "계속해서 2025년 8월 28일 오후입니다.\n",
    "이번 수업은 데이터의 전처리 과정에서\n",
    "필요 없는 데이터를 삭제하고, 컬럼을 변경하며, 정렬시키는 내용을 배워 보고자 합니다!!\n",
    "\n",
    "이번 챕터는 모든 부분이 시험의 단골출제 주제이므로 반드시 집중해서 들을 수 있도록 합니다!!\n",
    "'''"
   ]
  },
  {
   "cell_type": "markdown",
   "id": "75d207a5",
   "metadata": {},
   "source": [
    "## 1. 데이터 삭제"
   ]
  },
  {
   "cell_type": "code",
   "execution_count": null,
   "id": "15311f03",
   "metadata": {},
   "outputs": [],
   "source": [
    "'''\n",
    "데이터 삭제 메서드\n",
    "    1. 품질과 무관한 데이터 삭제\n",
    "        분석에 필요하지 않은 열이나 행을 삭제\n",
    "        ex) 고객 데이터 가운데 분석과 무관한 (무관해 보이는) '주소'열을 삭제\n",
    "    2. 품질이 낮은 데이터 삭제\n",
    "        결측치가 많거나 이상치가 너무 많아 사용할 수 없는 데이터 삭제\n",
    "    3. 중복 데이터 삭제\n",
    "        동일한 데이터가 여러 번 반복되는 경우 중복된 데이터를 삭제\n",
    "\n",
    "drop(index=n)\n",
    "    pandas 라이브러리의 메서드.\n",
    "    특정 행을 삭제한다\n",
    "\n",
    "df.drop([' '], axis=1)\n",
    "    특정 열을 삭제한다.\n",
    "    df.drop(columns= ['score]) 와 같이 열의 이름으로 삭제할 수도 있다.\n",
    "\n",
    "df.dropna()\n",
    "    결측치가 포함된 데이터(행)을 삭제한다\n",
    "    매개변수 axis=1 으로 하면 해당 조건의 열을 삭제한다.\n",
    "\n",
    "df.drop_duplicates()\n",
    "    데이터프레임에서 중복된 행을 삭제한다.\n",
    "    기본적으로 모든 열의 값을 비교하고 중복을 판단한다.        \n",
    "'''"
   ]
  },
  {
   "cell_type": "code",
   "execution_count": null,
   "id": "e63943f6",
   "metadata": {},
   "outputs": [],
   "source": []
  },
  {
   "cell_type": "markdown",
   "id": "c5f8d740",
   "metadata": {},
   "source": [
    "## 2. 컬럼명 변경"
   ]
  },
  {
   "cell_type": "code",
   "execution_count": null,
   "id": "f032cc6b",
   "metadata": {},
   "outputs": [],
   "source": [
    "'''\n",
    "컬럼 이름은 DataFrame에서 각 열(column)을 명명하는 이름이다.\n",
    "컬럼 이름은 데이터의 의미을 담고 있어야 데이터를 직관적으로 이해하고, 효율적으로 다룰 수 있다.\n",
    "제공받은 데이터의 컬럼명이 데이터의 직관성을 해칠 경우 컬럼명을 변경해줘야 한다.\n",
    "\n",
    "    1. 컬럼명이 직관적이지 않은 경우\n",
    "        컬럼명이 'col1', 'col2'와 같이 반직관적으로 구성된 경우 '나이', '점수'등과 같이 직관적인 컬럼명을 붙여준다.\n",
    "    2. 언어 통일이 필요한 경우\n",
    "        'name' 과 '나이' 이렇게 구성된 컬럼명을 통일시키는 경우\n",
    "    3. 분석 목적에 맞게 간소화하는 경우\n",
    "        칼럼명이 지나치게 길거나 복잡한 경우. 이를테면 '고객연령(만나이)' 라는 컬럼명은 '나이'로 간소화\n",
    "\n",
    "df.columns\n",
    "    DataFrame의 컬럼명을 리스트 형태로 반환한다.\n",
    "    반복문 짤 때도 종종 사용한다.\n",
    "\n",
    "df.rename({})\n",
    "    변경할 컬럼명을 딕셔너리 형태로 전달한다.\n",
    "    df.rename(columns={'age':'나이', 'sex':'성별','cp':'흉통유형'}, inplace=True)\n",
    "'''"
   ]
  },
  {
   "cell_type": "code",
   "execution_count": null,
   "id": "de9db80f",
   "metadata": {},
   "outputs": [],
   "source": []
  },
  {
   "cell_type": "markdown",
   "id": "2c32e4a2",
   "metadata": {},
   "source": [
    "## 3. 데이터 정렬"
   ]
  },
  {
   "cell_type": "code",
   "execution_count": null,
   "id": "d649724f",
   "metadata": {},
   "outputs": [],
   "source": [
    "'''\n",
    "데이터 정렬은 DataFrame 내의 행 또는 열을 특정 기준에 따라 정리하는 과정\n",
    "\n",
    "    1. 값의 크기나 순서대로 정리해 보고 싶을 떄\n",
    "    \n",
    "    2. 중복된 데이터를 확인해보고 싶을 떄\n",
    "\n",
    "    3. 데이터 가독성을 높일 떄\n",
    "\n",
    "sort_values()\n",
    "    특정 열(column)의 값을 기준으로 데이터를 정렬\n",
    "    sort_values(by = '정렬 기준 열 이름', ascending = '오름차순이면 True(기본)', inplace = '기존 값 대체 여부 (기본 False)')\n",
    "\n",
    "sort_index()\n",
    "    행 또는 열의 이름을 기준으로 정렬\n",
    "    sort_index(axis= '0은 행, 1은 열', ascending= 'True면 오름차순(기본)')\n",
    "\n",
    "정렬 전 결측치(NaN) 처리해야 함(정렬 시 맨 아래에 위치)\n",
    "\n",
    "inplace = True 시 원본 DataFrame이 직접 수정됨\n",
    "'''"
   ]
  }
 ],
 "metadata": {
  "language_info": {
   "name": "python"
  }
 },
 "nbformat": 4,
 "nbformat_minor": 5
}
